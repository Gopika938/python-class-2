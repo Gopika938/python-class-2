{
  "nbformat": 4,
  "nbformat_minor": 0,
  "metadata": {
    "colab": {
      "provenance": [],
      "authorship_tag": "ABX9TyMYLprK12JSp4tn2LPSZUNz",
      "include_colab_link": true
    },
    "kernelspec": {
      "name": "python3",
      "display_name": "Python 3"
    },
    "language_info": {
      "name": "python"
    }
  },
  "cells": [
    {
      "cell_type": "markdown",
      "metadata": {
        "id": "view-in-github",
        "colab_type": "text"
      },
      "source": [
        "<a href=\"https://colab.research.google.com/github/Gopika938/python-class-2/blob/main/Python_assignment.ipynb\" target=\"_parent\"><img src=\"https://colab.research.google.com/assets/colab-badge.svg\" alt=\"Open In Colab\"/></a>"
      ]
    },
    {
      "cell_type": "code",
      "execution_count": 1,
      "metadata": {
        "id": "9ZOFv7ZKYbuK"
      },
      "outputs": [],
      "source": [
        "import pandas as pd\n",
        "\n",
        "# Load the dataset into a Pandas DataFrame\n",
        "data = pd.read_csv('heart_attack_russia_youth_vs_adult.csv')"
      ]
    },
    {
      "cell_type": "code",
      "source": [
        "# Store the number of rows and columns in variables\n",
        "num_rows = data.shape[0]\n",
        "num_cols = data.shape[1]\n",
        "\n",
        "# Store the name of a specific column in a variable\n",
        "age_column = 'age'"
      ],
      "metadata": {
        "id": "4AiVfCyHZQm6"
      },
      "execution_count": 2,
      "outputs": []
    },
    {
      "cell_type": "code",
      "source": [
        "# Create a list to store the names of relevant columns\n",
        "features = ['age', 'cholesterol', 'blood_pressure']"
      ],
      "metadata": {
        "id": "-ScMZR-EZcVN"
      },
      "execution_count": 3,
      "outputs": []
    },
    {
      "cell_type": "code",
      "source": [
        "# Create a dictionary to store average values for age groups\n",
        "age_group_averages = {}"
      ],
      "metadata": {
        "id": "9PKpKTlIZh1L"
      },
      "execution_count": 4,
      "outputs": []
    },
    {
      "cell_type": "code",
      "source": [
        "# Calculate and store average cholesterol for two age groups\n",
        "for age_group in ['youth', 'adult']:\n",
        "    # Use age_group to filter data instead of age\n",
        "    group_data = data[data['Age'] == age_group]\n",
        "    # Access 'Cholesterol' with proper capitalization\n",
        "    average_cholesterol = group_data['Cholesterol'].mean()\n",
        "    # Assign average cholesterol to the age group key in the dictionary\n",
        "    age_group_averages[age_group] = average_cholesterol\n",
        "\n",
        "    # Check if cholesterol level is high using average_cholesterol\n",
        "    if average_cholesterol > 200:\n",
        "        print(f\"cholesterol for {age_group} is high.\")"
      ],
      "metadata": {
        "id": "tTpnEMZ_bh3v"
      },
      "execution_count": 7,
      "outputs": []
    }
  ]
}