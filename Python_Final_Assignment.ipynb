{
  "nbformat": 4,
  "nbformat_minor": 0,
  "metadata": {
    "colab": {
      "provenance": [],
      "toc_visible": true,
      "authorship_tag": "ABX9TyOMl5JUoYjrftp+78qQhtPv",
      "include_colab_link": true
    },
    "kernelspec": {
      "name": "python3",
      "display_name": "Python 3"
    },
    "language_info": {
      "name": "python"
    }
  },
  "cells": [
    {
      "cell_type": "markdown",
      "metadata": {
        "id": "view-in-github",
        "colab_type": "text"
      },
      "source": [
        "<a href=\"https://colab.research.google.com/github/Gopika938/python-class-2/blob/main/Python_Final_Assignment.ipynb\" target=\"_parent\"><img src=\"https://colab.research.google.com/assets/colab-badge.svg\" alt=\"Open In Colab\"/></a>"
      ]
    },
    {
      "cell_type": "markdown",
      "source": [
        "#**Netflix Movies & TV shows**"
      ],
      "metadata": {
        "id": "1vOYSRHTidpc"
      }
    },
    {
      "cell_type": "code",
      "execution_count": 41,
      "metadata": {
        "id": "8asRVXJHaUbg"
      },
      "outputs": [],
      "source": [
        "#Loading the required libraries to start with the analysis\n",
        "import pandas as pd\n",
        "import numpy as np\n",
        "import matplotlib.pyplot as plt\n",
        "import seaborn as sns"
      ]
    },
    {
      "cell_type": "code",
      "source": [
        "Netflix_titles_df = pd.read_csv(\"netflix_titles.csv\")"
      ],
      "metadata": {
        "id": "DcgWMtLKasnP"
      },
      "execution_count": 5,
      "outputs": []
    },
    {
      "cell_type": "code",
      "source": [
        "Netflix_titles_df.head()"
      ],
      "metadata": {
        "colab": {
          "base_uri": "https://localhost:8080/",
          "height": 570
        },
        "id": "7nlDIkblbDFJ",
        "outputId": "744b2264-fb79-412c-f40b-e31416b783e0"
      },
      "execution_count": 42,
      "outputs": [
        {
          "output_type": "execute_result",
          "data": {
            "text/plain": [
              "  show_id     type                          title         director  \\\n",
              "0      s1    Movie           Dick Johnson Is Dead  Kirsten Johnson   \n",
              "1      s2  TV Show                  Blood & Water          Unknown   \n",
              "4      s5  TV Show                   Kota Factory          Unknown   \n",
              "7      s8    Movie                        Sankofa     Haile Gerima   \n",
              "8      s9  TV Show  The Great British Baking Show  Andy Devonshire   \n",
              "\n",
              "                                                cast  \\\n",
              "0                                            Unknown   \n",
              "1  Ama Qamata, Khosi Ngema, Gail Mabalane, Thaban...   \n",
              "4  Mayur More, Jitendra Kumar, Ranjan Raj, Alam K...   \n",
              "7  Kofi Ghanaba, Oyafunmike Ogunlano, Alexandra D...   \n",
              "8  Mel Giedroyc, Sue Perkins, Mary Berry, Paul Ho...   \n",
              "\n",
              "                                             country          date_added  \\\n",
              "0                                      United States  September 25, 2021   \n",
              "1                                       South Africa  September 24, 2021   \n",
              "4                                              India  September 24, 2021   \n",
              "7  United States, Ghana, Burkina Faso, United Kin...  September 24, 2021   \n",
              "8                                     United Kingdom  September 24, 2021   \n",
              "\n",
              "   release_year rating   duration  \\\n",
              "0          2020  PG-13     90 min   \n",
              "1          2021  TV-MA  2 Seasons   \n",
              "4          2021  TV-MA  2 Seasons   \n",
              "7          1993  TV-MA    125 min   \n",
              "8          2021  TV-14  9 Seasons   \n",
              "\n",
              "                                           listed_in  \\\n",
              "0                                      Documentaries   \n",
              "1    International TV Shows, TV Dramas, TV Mysteries   \n",
              "4  International TV Shows, Romantic TV Shows, TV ...   \n",
              "7   Dramas, Independent Movies, International Movies   \n",
              "8                       British TV Shows, Reality TV   \n",
              "\n",
              "                                         description  \n",
              "0  As her father nears the end of his life, filmm...  \n",
              "1  After crossing paths at a party, a Cape Town t...  \n",
              "4  In a city of coaching centers known to train I...  \n",
              "7  On a photo shoot in Ghana, an American model s...  \n",
              "8  A talented batch of amateur bakers face off in...  "
            ],
            "text/html": [
              "\n",
              "  <div id=\"df-8d0a7ee6-d7ab-4d4d-92c6-21bdb5c1dc72\" class=\"colab-df-container\">\n",
              "    <div>\n",
              "<style scoped>\n",
              "    .dataframe tbody tr th:only-of-type {\n",
              "        vertical-align: middle;\n",
              "    }\n",
              "\n",
              "    .dataframe tbody tr th {\n",
              "        vertical-align: top;\n",
              "    }\n",
              "\n",
              "    .dataframe thead th {\n",
              "        text-align: right;\n",
              "    }\n",
              "</style>\n",
              "<table border=\"1\" class=\"dataframe\">\n",
              "  <thead>\n",
              "    <tr style=\"text-align: right;\">\n",
              "      <th></th>\n",
              "      <th>show_id</th>\n",
              "      <th>type</th>\n",
              "      <th>title</th>\n",
              "      <th>director</th>\n",
              "      <th>cast</th>\n",
              "      <th>country</th>\n",
              "      <th>date_added</th>\n",
              "      <th>release_year</th>\n",
              "      <th>rating</th>\n",
              "      <th>duration</th>\n",
              "      <th>listed_in</th>\n",
              "      <th>description</th>\n",
              "    </tr>\n",
              "  </thead>\n",
              "  <tbody>\n",
              "    <tr>\n",
              "      <th>0</th>\n",
              "      <td>s1</td>\n",
              "      <td>Movie</td>\n",
              "      <td>Dick Johnson Is Dead</td>\n",
              "      <td>Kirsten Johnson</td>\n",
              "      <td>Unknown</td>\n",
              "      <td>United States</td>\n",
              "      <td>September 25, 2021</td>\n",
              "      <td>2020</td>\n",
              "      <td>PG-13</td>\n",
              "      <td>90 min</td>\n",
              "      <td>Documentaries</td>\n",
              "      <td>As her father nears the end of his life, filmm...</td>\n",
              "    </tr>\n",
              "    <tr>\n",
              "      <th>1</th>\n",
              "      <td>s2</td>\n",
              "      <td>TV Show</td>\n",
              "      <td>Blood &amp; Water</td>\n",
              "      <td>Unknown</td>\n",
              "      <td>Ama Qamata, Khosi Ngema, Gail Mabalane, Thaban...</td>\n",
              "      <td>South Africa</td>\n",
              "      <td>September 24, 2021</td>\n",
              "      <td>2021</td>\n",
              "      <td>TV-MA</td>\n",
              "      <td>2 Seasons</td>\n",
              "      <td>International TV Shows, TV Dramas, TV Mysteries</td>\n",
              "      <td>After crossing paths at a party, a Cape Town t...</td>\n",
              "    </tr>\n",
              "    <tr>\n",
              "      <th>4</th>\n",
              "      <td>s5</td>\n",
              "      <td>TV Show</td>\n",
              "      <td>Kota Factory</td>\n",
              "      <td>Unknown</td>\n",
              "      <td>Mayur More, Jitendra Kumar, Ranjan Raj, Alam K...</td>\n",
              "      <td>India</td>\n",
              "      <td>September 24, 2021</td>\n",
              "      <td>2021</td>\n",
              "      <td>TV-MA</td>\n",
              "      <td>2 Seasons</td>\n",
              "      <td>International TV Shows, Romantic TV Shows, TV ...</td>\n",
              "      <td>In a city of coaching centers known to train I...</td>\n",
              "    </tr>\n",
              "    <tr>\n",
              "      <th>7</th>\n",
              "      <td>s8</td>\n",
              "      <td>Movie</td>\n",
              "      <td>Sankofa</td>\n",
              "      <td>Haile Gerima</td>\n",
              "      <td>Kofi Ghanaba, Oyafunmike Ogunlano, Alexandra D...</td>\n",
              "      <td>United States, Ghana, Burkina Faso, United Kin...</td>\n",
              "      <td>September 24, 2021</td>\n",
              "      <td>1993</td>\n",
              "      <td>TV-MA</td>\n",
              "      <td>125 min</td>\n",
              "      <td>Dramas, Independent Movies, International Movies</td>\n",
              "      <td>On a photo shoot in Ghana, an American model s...</td>\n",
              "    </tr>\n",
              "    <tr>\n",
              "      <th>8</th>\n",
              "      <td>s9</td>\n",
              "      <td>TV Show</td>\n",
              "      <td>The Great British Baking Show</td>\n",
              "      <td>Andy Devonshire</td>\n",
              "      <td>Mel Giedroyc, Sue Perkins, Mary Berry, Paul Ho...</td>\n",
              "      <td>United Kingdom</td>\n",
              "      <td>September 24, 2021</td>\n",
              "      <td>2021</td>\n",
              "      <td>TV-14</td>\n",
              "      <td>9 Seasons</td>\n",
              "      <td>British TV Shows, Reality TV</td>\n",
              "      <td>A talented batch of amateur bakers face off in...</td>\n",
              "    </tr>\n",
              "  </tbody>\n",
              "</table>\n",
              "</div>\n",
              "    <div class=\"colab-df-buttons\">\n",
              "\n",
              "  <div class=\"colab-df-container\">\n",
              "    <button class=\"colab-df-convert\" onclick=\"convertToInteractive('df-8d0a7ee6-d7ab-4d4d-92c6-21bdb5c1dc72')\"\n",
              "            title=\"Convert this dataframe to an interactive table.\"\n",
              "            style=\"display:none;\">\n",
              "\n",
              "  <svg xmlns=\"http://www.w3.org/2000/svg\" height=\"24px\" viewBox=\"0 -960 960 960\">\n",
              "    <path d=\"M120-120v-720h720v720H120Zm60-500h600v-160H180v160Zm220 220h160v-160H400v160Zm0 220h160v-160H400v160ZM180-400h160v-160H180v160Zm440 0h160v-160H620v160ZM180-180h160v-160H180v160Zm440 0h160v-160H620v160Z\"/>\n",
              "  </svg>\n",
              "    </button>\n",
              "\n",
              "  <style>\n",
              "    .colab-df-container {\n",
              "      display:flex;\n",
              "      gap: 12px;\n",
              "    }\n",
              "\n",
              "    .colab-df-convert {\n",
              "      background-color: #E8F0FE;\n",
              "      border: none;\n",
              "      border-radius: 50%;\n",
              "      cursor: pointer;\n",
              "      display: none;\n",
              "      fill: #1967D2;\n",
              "      height: 32px;\n",
              "      padding: 0 0 0 0;\n",
              "      width: 32px;\n",
              "    }\n",
              "\n",
              "    .colab-df-convert:hover {\n",
              "      background-color: #E2EBFA;\n",
              "      box-shadow: 0px 1px 2px rgba(60, 64, 67, 0.3), 0px 1px 3px 1px rgba(60, 64, 67, 0.15);\n",
              "      fill: #174EA6;\n",
              "    }\n",
              "\n",
              "    .colab-df-buttons div {\n",
              "      margin-bottom: 4px;\n",
              "    }\n",
              "\n",
              "    [theme=dark] .colab-df-convert {\n",
              "      background-color: #3B4455;\n",
              "      fill: #D2E3FC;\n",
              "    }\n",
              "\n",
              "    [theme=dark] .colab-df-convert:hover {\n",
              "      background-color: #434B5C;\n",
              "      box-shadow: 0px 1px 3px 1px rgba(0, 0, 0, 0.15);\n",
              "      filter: drop-shadow(0px 1px 2px rgba(0, 0, 0, 0.3));\n",
              "      fill: #FFFFFF;\n",
              "    }\n",
              "  </style>\n",
              "\n",
              "    <script>\n",
              "      const buttonEl =\n",
              "        document.querySelector('#df-8d0a7ee6-d7ab-4d4d-92c6-21bdb5c1dc72 button.colab-df-convert');\n",
              "      buttonEl.style.display =\n",
              "        google.colab.kernel.accessAllowed ? 'block' : 'none';\n",
              "\n",
              "      async function convertToInteractive(key) {\n",
              "        const element = document.querySelector('#df-8d0a7ee6-d7ab-4d4d-92c6-21bdb5c1dc72');\n",
              "        const dataTable =\n",
              "          await google.colab.kernel.invokeFunction('convertToInteractive',\n",
              "                                                    [key], {});\n",
              "        if (!dataTable) return;\n",
              "\n",
              "        const docLinkHtml = 'Like what you see? Visit the ' +\n",
              "          '<a target=\"_blank\" href=https://colab.research.google.com/notebooks/data_table.ipynb>data table notebook</a>'\n",
              "          + ' to learn more about interactive tables.';\n",
              "        element.innerHTML = '';\n",
              "        dataTable['output_type'] = 'display_data';\n",
              "        await google.colab.output.renderOutput(dataTable, element);\n",
              "        const docLink = document.createElement('div');\n",
              "        docLink.innerHTML = docLinkHtml;\n",
              "        element.appendChild(docLink);\n",
              "      }\n",
              "    </script>\n",
              "  </div>\n",
              "\n",
              "\n",
              "<div id=\"df-492dcbb4-3f32-4f63-ab7d-101bea550f30\">\n",
              "  <button class=\"colab-df-quickchart\" onclick=\"quickchart('df-492dcbb4-3f32-4f63-ab7d-101bea550f30')\"\n",
              "            title=\"Suggest charts\"\n",
              "            style=\"display:none;\">\n",
              "\n",
              "<svg xmlns=\"http://www.w3.org/2000/svg\" height=\"24px\"viewBox=\"0 0 24 24\"\n",
              "     width=\"24px\">\n",
              "    <g>\n",
              "        <path d=\"M19 3H5c-1.1 0-2 .9-2 2v14c0 1.1.9 2 2 2h14c1.1 0 2-.9 2-2V5c0-1.1-.9-2-2-2zM9 17H7v-7h2v7zm4 0h-2V7h2v10zm4 0h-2v-4h2v4z\"/>\n",
              "    </g>\n",
              "</svg>\n",
              "  </button>\n",
              "\n",
              "<style>\n",
              "  .colab-df-quickchart {\n",
              "      --bg-color: #E8F0FE;\n",
              "      --fill-color: #1967D2;\n",
              "      --hover-bg-color: #E2EBFA;\n",
              "      --hover-fill-color: #174EA6;\n",
              "      --disabled-fill-color: #AAA;\n",
              "      --disabled-bg-color: #DDD;\n",
              "  }\n",
              "\n",
              "  [theme=dark] .colab-df-quickchart {\n",
              "      --bg-color: #3B4455;\n",
              "      --fill-color: #D2E3FC;\n",
              "      --hover-bg-color: #434B5C;\n",
              "      --hover-fill-color: #FFFFFF;\n",
              "      --disabled-bg-color: #3B4455;\n",
              "      --disabled-fill-color: #666;\n",
              "  }\n",
              "\n",
              "  .colab-df-quickchart {\n",
              "    background-color: var(--bg-color);\n",
              "    border: none;\n",
              "    border-radius: 50%;\n",
              "    cursor: pointer;\n",
              "    display: none;\n",
              "    fill: var(--fill-color);\n",
              "    height: 32px;\n",
              "    padding: 0;\n",
              "    width: 32px;\n",
              "  }\n",
              "\n",
              "  .colab-df-quickchart:hover {\n",
              "    background-color: var(--hover-bg-color);\n",
              "    box-shadow: 0 1px 2px rgba(60, 64, 67, 0.3), 0 1px 3px 1px rgba(60, 64, 67, 0.15);\n",
              "    fill: var(--button-hover-fill-color);\n",
              "  }\n",
              "\n",
              "  .colab-df-quickchart-complete:disabled,\n",
              "  .colab-df-quickchart-complete:disabled:hover {\n",
              "    background-color: var(--disabled-bg-color);\n",
              "    fill: var(--disabled-fill-color);\n",
              "    box-shadow: none;\n",
              "  }\n",
              "\n",
              "  .colab-df-spinner {\n",
              "    border: 2px solid var(--fill-color);\n",
              "    border-color: transparent;\n",
              "    border-bottom-color: var(--fill-color);\n",
              "    animation:\n",
              "      spin 1s steps(1) infinite;\n",
              "  }\n",
              "\n",
              "  @keyframes spin {\n",
              "    0% {\n",
              "      border-color: transparent;\n",
              "      border-bottom-color: var(--fill-color);\n",
              "      border-left-color: var(--fill-color);\n",
              "    }\n",
              "    20% {\n",
              "      border-color: transparent;\n",
              "      border-left-color: var(--fill-color);\n",
              "      border-top-color: var(--fill-color);\n",
              "    }\n",
              "    30% {\n",
              "      border-color: transparent;\n",
              "      border-left-color: var(--fill-color);\n",
              "      border-top-color: var(--fill-color);\n",
              "      border-right-color: var(--fill-color);\n",
              "    }\n",
              "    40% {\n",
              "      border-color: transparent;\n",
              "      border-right-color: var(--fill-color);\n",
              "      border-top-color: var(--fill-color);\n",
              "    }\n",
              "    60% {\n",
              "      border-color: transparent;\n",
              "      border-right-color: var(--fill-color);\n",
              "    }\n",
              "    80% {\n",
              "      border-color: transparent;\n",
              "      border-right-color: var(--fill-color);\n",
              "      border-bottom-color: var(--fill-color);\n",
              "    }\n",
              "    90% {\n",
              "      border-color: transparent;\n",
              "      border-bottom-color: var(--fill-color);\n",
              "    }\n",
              "  }\n",
              "</style>\n",
              "\n",
              "  <script>\n",
              "    async function quickchart(key) {\n",
              "      const quickchartButtonEl =\n",
              "        document.querySelector('#' + key + ' button');\n",
              "      quickchartButtonEl.disabled = true;  // To prevent multiple clicks.\n",
              "      quickchartButtonEl.classList.add('colab-df-spinner');\n",
              "      try {\n",
              "        const charts = await google.colab.kernel.invokeFunction(\n",
              "            'suggestCharts', [key], {});\n",
              "      } catch (error) {\n",
              "        console.error('Error during call to suggestCharts:', error);\n",
              "      }\n",
              "      quickchartButtonEl.classList.remove('colab-df-spinner');\n",
              "      quickchartButtonEl.classList.add('colab-df-quickchart-complete');\n",
              "    }\n",
              "    (() => {\n",
              "      let quickchartButtonEl =\n",
              "        document.querySelector('#df-492dcbb4-3f32-4f63-ab7d-101bea550f30 button');\n",
              "      quickchartButtonEl.style.display =\n",
              "        google.colab.kernel.accessAllowed ? 'block' : 'none';\n",
              "    })();\n",
              "  </script>\n",
              "</div>\n",
              "\n",
              "    </div>\n",
              "  </div>\n"
            ],
            "application/vnd.google.colaboratory.intrinsic+json": {
              "type": "dataframe",
              "variable_name": "Netflix_titles_df",
              "summary": "{\n  \"name\": \"Netflix_titles_df\",\n  \"rows\": 7964,\n  \"fields\": [\n    {\n      \"column\": \"show_id\",\n      \"properties\": {\n        \"dtype\": \"string\",\n        \"num_unique_values\": 7964,\n        \"samples\": [\n          \"s1004\",\n          \"s4073\",\n          \"s523\"\n        ],\n        \"semantic_type\": \"\",\n        \"description\": \"\"\n      }\n    },\n    {\n      \"column\": \"type\",\n      \"properties\": {\n        \"dtype\": \"category\",\n        \"num_unique_values\": 2,\n        \"samples\": [\n          \"TV Show\",\n          \"Movie\"\n        ],\n        \"semantic_type\": \"\",\n        \"description\": \"\"\n      }\n    },\n    {\n      \"column\": \"title\",\n      \"properties\": {\n        \"dtype\": \"string\",\n        \"num_unique_values\": 7964,\n        \"samples\": [\n          \"Zero\",\n          \"Evening Shadows\"\n        ],\n        \"semantic_type\": \"\",\n        \"description\": \"\"\n      }\n    },\n    {\n      \"column\": \"director\",\n      \"properties\": {\n        \"dtype\": \"string\",\n        \"num_unique_values\": 4287,\n        \"samples\": [\n          \"Andr\\u00e9s Feddersen\",\n          \"Mark Williams\"\n        ],\n        \"semantic_type\": \"\",\n        \"description\": \"\"\n      }\n    },\n    {\n      \"column\": \"cast\",\n      \"properties\": {\n        \"dtype\": \"string\",\n        \"num_unique_values\": 7094,\n        \"samples\": [\n          \"Ice Cube, Samuel L. Jackson, Willem Dafoe, Scott Speedman, Peter Strauss, Xzibit, Michael Roof, Sunny Mabrey, Nona Gaye, John Gleeson Connolly\",\n          \"Naseeruddin Shah, Randeep Hooda, Shernaz Patel, Elena Kazan, Sharat Saxena, Vipin Sharma, Denzil Smith, Kenneth Desai, Sushil Pandey\"\n        ],\n        \"semantic_type\": \"\",\n        \"description\": \"\"\n      }\n    },\n    {\n      \"column\": \"country\",\n      \"properties\": {\n        \"dtype\": \"category\",\n        \"num_unique_values\": 748,\n        \"samples\": [\n          \"United States, United Kingdom, Denmark, Sweden\",\n          \"United Kingdom, Hong Kong\"\n        ],\n        \"semantic_type\": \"\",\n        \"description\": \"\"\n      }\n    },\n    {\n      \"column\": \"date_added\",\n      \"properties\": {\n        \"dtype\": \"category\",\n        \"num_unique_values\": 1734,\n        \"samples\": [\n          \"January 31, 2020\",\n          \"April 13, 2021\"\n        ],\n        \"semantic_type\": \"\",\n        \"description\": \"\"\n      }\n    },\n    {\n      \"column\": \"release_year\",\n      \"properties\": {\n        \"dtype\": \"number\",\n        \"std\": 8,\n        \"min\": 1942,\n        \"max\": 2021,\n        \"num_unique_values\": 73,\n        \"samples\": [\n          1998,\n          1977\n        ],\n        \"semantic_type\": \"\",\n        \"description\": \"\"\n      }\n    },\n    {\n      \"column\": \"rating\",\n      \"properties\": {\n        \"dtype\": \"category\",\n        \"num_unique_values\": 17,\n        \"samples\": [\n          \"PG-13\",\n          \"TV-MA\"\n        ],\n        \"semantic_type\": \"\",\n        \"description\": \"\"\n      }\n    },\n    {\n      \"column\": \"duration\",\n      \"properties\": {\n        \"dtype\": \"category\",\n        \"num_unique_values\": 212,\n        \"samples\": [\n          \"182 min\",\n          \"209 min\"\n        ],\n        \"semantic_type\": \"\",\n        \"description\": \"\"\n      }\n    },\n    {\n      \"column\": \"listed_in\",\n      \"properties\": {\n        \"dtype\": \"category\",\n        \"num_unique_values\": 497,\n        \"samples\": [\n          \"Dramas, Horror Movies, Music & Musicals\",\n          \"Action & Adventure, Comedies, International Movies\"\n        ],\n        \"semantic_type\": \"\",\n        \"description\": \"\"\n      }\n    },\n    {\n      \"column\": \"description\",\n      \"properties\": {\n        \"dtype\": \"string\",\n        \"num_unique_values\": 7949,\n        \"samples\": [\n          \"A logger defends himself and his family from a group of murderous drug traffickers who have hidden a stash of heroin in his hunting cabin.\",\n          \"After a troubled past with their alcoholic father, two estranged brothers prepare to face each other again as rivals in a street fighting tournament.\"\n        ],\n        \"semantic_type\": \"\",\n        \"description\": \"\"\n      }\n    }\n  ]\n}"
            }
          },
          "metadata": {},
          "execution_count": 42
        }
      ]
    },
    {
      "cell_type": "markdown",
      "source": [
        "##Basic Python Programming"
      ],
      "metadata": {
        "id": "32a7wiXoiXWH"
      }
    },
    {
      "cell_type": "code",
      "source": [
        "# 1. Variables: Assigning dataset column values to variables\n",
        "first_title = Netflix_titles_df.loc[0, \"title\"]\n",
        "first_type = Netflix_titles_df.loc[0, \"type\"]\n",
        "first_country = Netflix_titles_df.loc[0, \"country\"]"
      ],
      "metadata": {
        "id": "MznPTTiIbJ06"
      },
      "execution_count": 7,
      "outputs": []
    },
    {
      "cell_type": "code",
      "source": [
        "# 2. Lists: Storing first five titles in a list\n",
        "titles_list = Netflix_titles_df[\"title\"].head(5).tolist()"
      ],
      "metadata": {
        "id": "oiuUcW2zbRNg"
      },
      "execution_count": 8,
      "outputs": []
    },
    {
      "cell_type": "code",
      "source": [
        "# 3. Dictionaries: Creating a dictionary with the Netflix Dataset\n",
        "Netflix_titles_dict = {\n",
        "    \"Title\": first_title,\n",
        "    \"Type\": first_type,\n",
        "    \"Country\": first_country\n",
        "}"
      ],
      "metadata": {
        "id": "8CIRFhq8bU3j"
      },
      "execution_count": 9,
      "outputs": []
    },
    {
      "cell_type": "code",
      "source": [
        "# 4. Loops: Iterating over first five titles and printing them\n",
        "for title in titles_list:\n",
        "    print(f\"Title: {title}\")"
      ],
      "metadata": {
        "colab": {
          "base_uri": "https://localhost:8080/",
          "height": 0
        },
        "id": "p96o8jO2bXbc",
        "outputId": "8f5d3e94-cde5-42c8-c112-36e2f92e289b"
      },
      "execution_count": 10,
      "outputs": [
        {
          "output_type": "stream",
          "name": "stdout",
          "text": [
            "Title: Dick Johnson Is Dead\n",
            "Title: Blood & Water\n",
            "Title: Ganglands\n",
            "Title: Jailbirds New Orleans\n",
            "Title: Kota Factory\n"
          ]
        }
      ]
    },
    {
      "cell_type": "code",
      "source": [
        "# 5. Conditional Statements: Checking if the first entry is a Movie or TV Show\n",
        "if first_type == \"Movie\":\n",
        "    category_message = f\"'{first_title}' is a Movie.\"\n",
        "else:\n",
        "    category_message = f\"'{first_title}' is a TV Show.\""
      ],
      "metadata": {
        "id": "2C5U8p-Obk_-"
      },
      "execution_count": 11,
      "outputs": []
    },
    {
      "cell_type": "code",
      "source": [
        "# Function to count the number of movies and TV shows\n",
        "def count_titles_by_type(dataframe):\n",
        "    \"\"\"Returns a dictionary with the count of Movies and TV Shows.\"\"\"\n",
        "    counts = dataframe[\"type\"].value_counts().to_dict()\n",
        "    return counts"
      ],
      "metadata": {
        "id": "btEisNkQbogE"
      },
      "execution_count": 12,
      "outputs": []
    },
    {
      "cell_type": "code",
      "source": [
        "# Using the count function\n",
        "title_counts = count_titles_by_type(Netflix_titles_df)"
      ],
      "metadata": {
        "id": "Rc7lAQqUbrhb"
      },
      "execution_count": 13,
      "outputs": []
    },
    {
      "cell_type": "code",
      "source": [
        "# Display outputs\n",
        "print(\"Netflix_titles_df:\", Netflix_titles_df)\n",
        "print(\"Category Message:\", category_message)\n",
        "print(\"Title Counts:\", title_counts)"
      ],
      "metadata": {
        "colab": {
          "base_uri": "https://localhost:8080/",
          "height": 0
        },
        "collapsed": true,
        "id": "8A4TxYnNbut1",
        "outputId": "6de45e4e-4b72-4e34-df37-c6f5c15892dc"
      },
      "execution_count": 14,
      "outputs": [
        {
          "output_type": "stream",
          "name": "stdout",
          "text": [
            "Netflix_titles_df:      show_id     type                  title         director  \\\n",
            "0         s1    Movie   Dick Johnson Is Dead  Kirsten Johnson   \n",
            "1         s2  TV Show          Blood & Water              NaN   \n",
            "2         s3  TV Show              Ganglands  Julien Leclercq   \n",
            "3         s4  TV Show  Jailbirds New Orleans              NaN   \n",
            "4         s5  TV Show           Kota Factory              NaN   \n",
            "...      ...      ...                    ...              ...   \n",
            "8802   s8803    Movie                 Zodiac    David Fincher   \n",
            "8803   s8804  TV Show            Zombie Dumb              NaN   \n",
            "8804   s8805    Movie             Zombieland  Ruben Fleischer   \n",
            "8805   s8806    Movie                   Zoom     Peter Hewitt   \n",
            "8806   s8807    Movie                 Zubaan      Mozez Singh   \n",
            "\n",
            "                                                   cast        country  \\\n",
            "0                                                   NaN  United States   \n",
            "1     Ama Qamata, Khosi Ngema, Gail Mabalane, Thaban...   South Africa   \n",
            "2     Sami Bouajila, Tracy Gotoas, Samuel Jouy, Nabi...            NaN   \n",
            "3                                                   NaN            NaN   \n",
            "4     Mayur More, Jitendra Kumar, Ranjan Raj, Alam K...          India   \n",
            "...                                                 ...            ...   \n",
            "8802  Mark Ruffalo, Jake Gyllenhaal, Robert Downey J...  United States   \n",
            "8803                                                NaN            NaN   \n",
            "8804  Jesse Eisenberg, Woody Harrelson, Emma Stone, ...  United States   \n",
            "8805  Tim Allen, Courteney Cox, Chevy Chase, Kate Ma...  United States   \n",
            "8806  Vicky Kaushal, Sarah-Jane Dias, Raaghav Chanan...          India   \n",
            "\n",
            "              date_added  release_year rating   duration  \\\n",
            "0     September 25, 2021          2020  PG-13     90 min   \n",
            "1     September 24, 2021          2021  TV-MA  2 Seasons   \n",
            "2     September 24, 2021          2021  TV-MA   1 Season   \n",
            "3     September 24, 2021          2021  TV-MA   1 Season   \n",
            "4     September 24, 2021          2021  TV-MA  2 Seasons   \n",
            "...                  ...           ...    ...        ...   \n",
            "8802   November 20, 2019          2007      R    158 min   \n",
            "8803        July 1, 2019          2018  TV-Y7  2 Seasons   \n",
            "8804    November 1, 2019          2009      R     88 min   \n",
            "8805    January 11, 2020          2006     PG     88 min   \n",
            "8806       March 2, 2019          2015  TV-14    111 min   \n",
            "\n",
            "                                              listed_in  \\\n",
            "0                                         Documentaries   \n",
            "1       International TV Shows, TV Dramas, TV Mysteries   \n",
            "2     Crime TV Shows, International TV Shows, TV Act...   \n",
            "3                                Docuseries, Reality TV   \n",
            "4     International TV Shows, Romantic TV Shows, TV ...   \n",
            "...                                                 ...   \n",
            "8802                     Cult Movies, Dramas, Thrillers   \n",
            "8803             Kids' TV, Korean TV Shows, TV Comedies   \n",
            "8804                            Comedies, Horror Movies   \n",
            "8805                 Children & Family Movies, Comedies   \n",
            "8806     Dramas, International Movies, Music & Musicals   \n",
            "\n",
            "                                            description  \n",
            "0     As her father nears the end of his life, filmm...  \n",
            "1     After crossing paths at a party, a Cape Town t...  \n",
            "2     To protect his family from a powerful drug lor...  \n",
            "3     Feuds, flirtations and toilet talk go down amo...  \n",
            "4     In a city of coaching centers known to train I...  \n",
            "...                                                 ...  \n",
            "8802  A political cartoonist, a crime reporter and a...  \n",
            "8803  While living alone in a spooky town, a young g...  \n",
            "8804  Looking to survive in a world taken over by zo...  \n",
            "8805  Dragged from civilian life, a former superhero...  \n",
            "8806  A scrappy but poor boy worms his way into a ty...  \n",
            "\n",
            "[8807 rows x 12 columns]\n",
            "Category Message: 'Dick Johnson Is Dead' is a Movie.\n",
            "Title Counts: {'Movie': 6131, 'TV Show': 2676}\n"
          ]
        }
      ]
    },
    {
      "cell_type": "markdown",
      "source": [
        "##Data Manipulation"
      ],
      "metadata": {
        "id": "kNGbYGbvjTb0"
      }
    },
    {
      "cell_type": "code",
      "source": [
        "# Clean the dataset by handling missing values and to remove duplicates\n",
        "Netflix_titles_df.drop_duplicates(inplace=True)"
      ],
      "metadata": {
        "id": "UhIktEwVb1TB"
      },
      "execution_count": 43,
      "outputs": []
    },
    {
      "cell_type": "code",
      "source": [
        "# Filling missing values in 'director' and 'cast' columns with 'NA'\n",
        "Netflix_titles_df = Netflix_titles_df.assign(\n",
        "    director=Netflix_titles_df[\"director\"].fillna(\"NA\"),\n",
        "    cast=Netflix_titles_df[\"cast\"].fillna(\"NA\")\n",
        ")"
      ],
      "metadata": {
        "id": "KZYblCqub53t"
      },
      "execution_count": 44,
      "outputs": []
    },
    {
      "cell_type": "code",
      "source": [
        "# Drop rows where 'country', 'date_added', or 'rating' is missing\n",
        "Netflix_titles_df.dropna(subset=[\"country\", \"date_added\", \"rating\"], inplace=True)"
      ],
      "metadata": {
        "id": "T-pIyvx-b9Tb"
      },
      "execution_count": 45,
      "outputs": []
    },
    {
      "cell_type": "code",
      "source": [
        "# Filter: Select only movies released after 2015\n",
        "recent_movies = Netflix_titles_df[(Netflix_titles_df[\"type\"] == \"Movie\") & (Netflix_titles_df[\"release_year\"] > 2015)]"
      ],
      "metadata": {
        "id": "BQp75GficR6y"
      },
      "execution_count": 46,
      "outputs": []
    },
    {
      "cell_type": "code",
      "source": [
        "# Sort: Sort by release year in descending order\n",
        "sorted_movies = recent_movies.sort_values(by=\"release_year\", ascending=False)"
      ],
      "metadata": {
        "id": "eZ61xeWicdFp"
      },
      "execution_count": 47,
      "outputs": []
    },
    {
      "cell_type": "code",
      "source": [
        "# Group: Count number of movies and TV shows by country\n",
        "title_counts_by_country = Netflix_titles_df.groupby(\"country\")[\"type\"].value_counts().unstack().fillna(0)"
      ],
      "metadata": {
        "id": "eHb7jkiHciG0"
      },
      "execution_count": 48,
      "outputs": []
    },
    {
      "cell_type": "code",
      "source": [
        "# Function to count the number of movies and TV shows\n",
        "def count_titles_by_type(dataframe):\n",
        "    \"\"\"Returns a dictionary with the count of Movies and TV Shows.\"\"\"\n",
        "    counts = dataframe[\"type\"].value_counts().to_dict()\n",
        "    return counts"
      ],
      "metadata": {
        "id": "s_rfxEuKclxQ"
      },
      "execution_count": 49,
      "outputs": []
    },
    {
      "cell_type": "code",
      "source": [
        "# Using the function\n",
        "title_counts = count_titles_by_type(Netflix_titles_df)"
      ],
      "metadata": {
        "id": "Zgc-VUHzcpjG"
      },
      "execution_count": 50,
      "outputs": []
    },
    {
      "cell_type": "markdown",
      "source": [
        "##Mathematical Operations"
      ],
      "metadata": {
        "id": "dvRQZM3Ljeuo"
      }
    },
    {
      "cell_type": "code",
      "source": [
        "# Calculating the total number of titles from the data set\n",
        "total_titles = len(Netflix_titles_df)"
      ],
      "metadata": {
        "id": "e178ogwecsH5"
      },
      "execution_count": 51,
      "outputs": []
    },
    {
      "cell_type": "code",
      "source": [
        "# Calculating the percentage of Movies and TV Shows\n",
        "title_percentages = (Netflix_titles_df[\"type\"].value_counts(normalize=True) * 100).to_dict()"
      ],
      "metadata": {
        "id": "7hdFb3e2cyF7"
      },
      "execution_count": 52,
      "outputs": []
    },
    {
      "cell_type": "code",
      "source": [
        "# Calculating the average of release year\n",
        "average_release_year = Netflix_titles_df[\"release_year\"].mean()"
      ],
      "metadata": {
        "id": "2iX7uQdMc1jY"
      },
      "execution_count": 53,
      "outputs": []
    },
    {
      "cell_type": "markdown",
      "source": [
        "##Data Visualisation"
      ],
      "metadata": {
        "id": "ADffTcC4jn_s"
      }
    },
    {
      "cell_type": "code",
      "source": [
        "# 1. Bar Chart: Number of Movies vs TV Shows\n",
        "plt.figure(figsize=(8, 5))\n",
        "sns.countplot(data=Netflix_titles_df, x=\"type\", palette=\"pastel\")\n",
        "plt.title(\"Number of Movies vs TV Shows\")\n",
        "plt.xlabel(\"Type\")\n",
        "plt.ylabel(\"Count\")\n",
        "plt.show()"
      ],
      "metadata": {
        "colab": {
          "base_uri": "https://localhost:8080/",
          "height": 594
        },
        "id": "f-PykLm6c478",
        "outputId": "78642a42-4c8d-424d-a7fc-9488b6e4de3a"
      },
      "execution_count": 28,
      "outputs": [
        {
          "output_type": "stream",
          "name": "stderr",
          "text": [
            "<ipython-input-28-2e875f1789ee>:4: FutureWarning: \n",
            "\n",
            "Passing `palette` without assigning `hue` is deprecated and will be removed in v0.14.0. Assign the `x` variable to `hue` and set `legend=False` for the same effect.\n",
            "\n",
            "  sns.countplot(data=Netflix_titles_df, x=\"type\", palette=\"pastel\")\n"
          ]
        },
        {
          "output_type": "display_data",
          "data": {
            "text/plain": [
              "<Figure size 800x500 with 1 Axes>"
            ],
            "image/png": "[encoded data removed]"
          },
          "metadata": {}
        }
      ]
    },
    {
      "cell_type": "code",
      "source": [
        "# 2. Histogram: Distribution of Release Years\n",
        "plt.figure(figsize=(10, 5))\n",
        "sns.histplot(Netflix_titles_df[\"release_year\"], bins=30, kde=True, color=\"red\")\n",
        "plt.title(\"Distribution of Release Years\")\n",
        "plt.xlabel(\"Release Year\")\n",
        "plt.ylabel(\"Frequency\")\n",
        "plt.show()"
      ],
      "metadata": {
        "colab": {
          "base_uri": "https://localhost:8080/",
          "height": 487
        },
        "id": "oSC7lMCzc9ri",
        "outputId": "180f9d4f-f73b-4c96-fc61-1a4cde0ab46c"
      },
      "execution_count": 54,
      "outputs": [
        {
          "output_type": "display_data",
          "data": {
            "text/plain": [
              "<Figure size 1000x500 with 1 Axes>"
            ],
            "image/png": "[encoded data removed]"
          },
          "metadata": {}
        }
      ]
    },
    {
      "cell_type": "code",
      "source": [
        "# 3. Boxplot: Duration of Movies and TV Shows\n",
        "plt.figure(figsize=(12, 6))\n",
        "sns.boxplot(data=Netflix_titles_df[Netflix_titles_df[\"type\"] == \"Movie\"], x=\"rating\", y=pd.to_numeric(Netflix_titles_df[\"duration\"].str.replace(\" min\", \"\"), errors='coerce'))\n",
        "plt.title(\"Boxplot of Movie Durations by Rating\")\n",
        "plt.xlabel(\"Rating\")\n",
        "plt.ylabel(\"Duration (Minutes)\")\n",
        "plt.xticks(rotation=45)\n",
        "plt.show()"
      ],
      "metadata": {
        "colab": {
          "base_uri": "https://localhost:8080/",
          "height": 602
        },
        "id": "qGqpFbcFdD3_",
        "outputId": "97091857-754b-4e41-d7f1-f4322e26154c"
      },
      "execution_count": 30,
      "outputs": [
        {
          "output_type": "display_data",
          "data": {
            "text/plain": [
              "<Figure size 1200x600 with 1 Axes>"
            ],
            "image/png": "[encoded data removed]"
          },
          "metadata": {}
        }
      ]
    },
    {
      "cell_type": "markdown",
      "source": [
        "##SQL Integration"
      ],
      "metadata": {
        "id": "PVnmHzm0kFl6"
      }
    },
    {
      "cell_type": "code",
      "source": [
        "!pip install sqlalchemy # Installing the required library\n",
        "from sqlalchemy import create_engine # Import the create_engine function"
      ],
      "metadata": {
        "colab": {
          "base_uri": "https://localhost:8080/",
          "height": 0
        },
        "id": "D9QGyG2odHTB",
        "outputId": "3a802a12-903a-443b-9d02-46a701169137"
      },
      "execution_count": 31,
      "outputs": [
        {
          "output_type": "stream",
          "name": "stdout",
          "text": [
            "Requirement already satisfied: sqlalchemy in /usr/local/lib/python3.11/dist-packages (2.0.37)\n",
            "Requirement already satisfied: greenlet!=0.4.17 in /usr/local/lib/python3.11/dist-packages (from sqlalchemy) (3.1.1)\n",
            "Requirement already satisfied: typing-extensions>=4.6.0 in /usr/local/lib/python3.11/dist-packages (from sqlalchemy) (4.12.2)\n"
          ]
        }
      ]
    },
    {
      "cell_type": "code",
      "source": [
        "# SQL Integration\n",
        "# Creating an SQLite database and store the processed dataset\n",
        "engine = create_engine(\"sqlite:///netflix.db\", echo=True)\n",
        "Netflix_titles_df.to_sql(\"netflix_titles\", con=engine, if_exists=\"replace\", index=False)"
      ],
      "metadata": {
        "colab": {
          "base_uri": "https://localhost:8080/",
          "height": 0
        },
        "id": "q_XvVdnEdQ_H",
        "outputId": "01debc5b-271e-413c-d2e0-22f86649e01b"
      },
      "execution_count": 32,
      "outputs": [
        {
          "output_type": "stream",
          "name": "stdout",
          "text": [
            "2025-01-29 19:06:49,931 INFO sqlalchemy.engine.Engine BEGIN (implicit)\n"
          ]
        },
        {
          "output_type": "stream",
          "name": "stderr",
          "text": [
            "INFO:sqlalchemy.engine.Engine:BEGIN (implicit)\n"
          ]
        },
        {
          "output_type": "stream",
          "name": "stdout",
          "text": [
            "2025-01-29 19:06:49,947 INFO sqlalchemy.engine.Engine PRAGMA main.table_info(\"netflix_titles\")\n"
          ]
        },
        {
          "output_type": "stream",
          "name": "stderr",
          "text": [
            "INFO:sqlalchemy.engine.Engine:PRAGMA main.table_info(\"netflix_titles\")\n"
          ]
        },
        {
          "output_type": "stream",
          "name": "stdout",
          "text": [
            "2025-01-29 19:06:49,968 INFO sqlalchemy.engine.Engine [raw sql] ()\n"
          ]
        },
        {
          "output_type": "stream",
          "name": "stderr",
          "text": [
            "INFO:sqlalchemy.engine.Engine:[raw sql] ()\n"
          ]
        },
        {
          "output_type": "stream",
          "name": "stdout",
          "text": [
            "2025-01-29 19:06:49,980 INFO sqlalchemy.engine.Engine PRAGMA temp.table_info(\"netflix_titles\")\n"
          ]
        },
        {
          "output_type": "stream",
          "name": "stderr",
          "text": [
            "INFO:sqlalchemy.engine.Engine:PRAGMA temp.table_info(\"netflix_titles\")\n"
          ]
        },
        {
          "output_type": "stream",
          "name": "stdout",
          "text": [
            "2025-01-29 19:06:49,998 INFO sqlalchemy.engine.Engine [raw sql] ()\n"
          ]
        },
        {
          "output_type": "stream",
          "name": "stderr",
          "text": [
            "INFO:sqlalchemy.engine.Engine:[raw sql] ()\n"
          ]
        },
        {
          "output_type": "stream",
          "name": "stdout",
          "text": [
            "2025-01-29 19:06:50,013 INFO sqlalchemy.engine.Engine \n",
            "CREATE TABLE netflix_titles (\n",
            "\tshow_id TEXT, \n",
            "\ttype TEXT, \n",
            "\ttitle TEXT, \n",
            "\tdirector TEXT, \n",
            "\t\"cast\" TEXT, \n",
            "\tcountry TEXT, \n",
            "\tdate_added TEXT, \n",
            "\trelease_year BIGINT, \n",
            "\trating TEXT, \n",
            "\tduration TEXT, \n",
            "\tlisted_in TEXT, \n",
            "\tdescription TEXT\n",
            ")\n",
            "\n",
            "\n"
          ]
        },
        {
          "output_type": "stream",
          "name": "stderr",
          "text": [
            "INFO:sqlalchemy.engine.Engine:\n",
            "CREATE TABLE netflix_titles (\n",
            "\tshow_id TEXT, \n",
            "\ttype TEXT, \n",
            "\ttitle TEXT, \n",
            "\tdirector TEXT, \n",
            "\t\"cast\" TEXT, \n",
            "\tcountry TEXT, \n",
            "\tdate_added TEXT, \n",
            "\trelease_year BIGINT, \n",
            "\trating TEXT, \n",
            "\tduration TEXT, \n",
            "\tlisted_in TEXT, \n",
            "\tdescription TEXT\n",
            ")\n",
            "\n",
            "\n"
          ]
        },
        {
          "output_type": "stream",
          "name": "stdout",
          "text": [
            "2025-01-29 19:06:50,035 INFO sqlalchemy.engine.Engine [no key 0.02173s] ()\n"
          ]
        },
        {
          "output_type": "stream",
          "name": "stderr",
          "text": [
            "INFO:sqlalchemy.engine.Engine:[no key 0.02173s] ()\n"
          ]
        },
        {
          "output_type": "stream",
          "name": "stdout",
          "text": [
            "2025-01-29 19:06:50,301 INFO sqlalchemy.engine.Engine INSERT INTO netflix_titles (show_id, type, title, director, \"cast\", country, date_added, release_year, rating, duration, listed_in, description) VALUES (?, ?, ?, ?, ?, ?, ?, ?, ?, ?, ?, ?)\n"
          ]
        },
        {
          "output_type": "stream",
          "name": "stderr",
          "text": [
            "INFO:sqlalchemy.engine.Engine:INSERT INTO netflix_titles (show_id, type, title, director, \"cast\", country, date_added, release_year, rating, duration, listed_in, description) VALUES (?, ?, ?, ?, ?, ?, ?, ?, ?, ?, ?, ?)\n"
          ]
        },
        {
          "output_type": "stream",
          "name": "stdout",
          "text": [
            "2025-01-29 19:06:50,311 INFO sqlalchemy.engine.Engine [generated in 0.18193s] [('s1', 'Movie', 'Dick Johnson Is Dead', 'Kirsten Johnson', 'Unknown', 'United States', 'September 25, 2021', 2020, 'PG-13', '90 min', 'Documentaries', 'As her father nears the end of his life, filmmaker Kirsten Johnson stages his death in inventive and comical ways to help them both face the inevitable.'), ('s2', 'TV Show', 'Blood & Water', 'Unknown', 'Ama Qamata, Khosi Ngema, Gail Mabalane, Thabang Molaba, Dillon Windvogel, Natasha Thahane, Arno Greeff, Xolile Tshabalala, Getmore Sithole, Cindy Mah ... (5 characters truncated) ... , Ryle De Morny, Greteli Fincham, Sello Maake Ka-Ncube, Odwa Gwanya, Mekaila Mathys, Sandi Schultz, Duane Williams, Shamilla Miller, Patrick Mofokeng', 'South Africa', 'September 24, 2021', 2021, 'TV-MA', '2 Seasons', 'International TV Shows, TV Dramas, TV Mysteries', 'After crossing paths at a party, a Cape Town teen sets out to prove whether a private-school swimming star is her sister who was abducted at birth.'), ('s5', 'TV Show', 'Kota Factory', 'Unknown', 'Mayur More, Jitendra Kumar, Ranjan Raj, Alam Khan, Ahsaas Channa, Revathi Pillai, Urvi Singh, Arun Kumar', 'India', 'September 24, 2021', 2021, 'TV-MA', '2 Seasons', 'International TV Shows, Romantic TV Shows, TV Comedies', 'In a city of coaching centers known to train India’s finest collegiate minds, an earnest but unexceptional student and his friends navigate campus life.'), ('s8', 'Movie', 'Sankofa', 'Haile Gerima', 'Kofi Ghanaba, Oyafunmike Ogunlano, Alexandra Duah, Nick Medley, Mutabaruka, Afemo Omilami, Reggie Carter, Mzuri', 'United States, Ghana, Burkina Faso, United Kingdom, Germany, Ethiopia', 'September 24, 2021', 1993, 'TV-MA', '125 min', 'Dramas, Independent Movies, International Movies', 'On a photo shoot in Ghana, an American model slips back in time, becomes enslaved on a plantation and bears witness to the agony of her ancestral past.'), ('s9', 'TV Show', 'The Great British Baking Show', 'Andy Devonshire', 'Mel Giedroyc, Sue Perkins, Mary Berry, Paul Hollywood', 'United Kingdom', 'September 24, 2021', 2021, 'TV-14', '9 Seasons', 'British TV Shows, Reality TV', \"A talented batch of amateur bakers face off in a 10-week competition, whipping up their best dishes in the hopes of being named the U.K.'s best.\"), ('s10', 'Movie', 'The Starling', 'Theodore Melfi', \"Melissa McCarthy, Chris O'Dowd, Kevin Kline, Timothy Olyphant, Daveed Diggs, Skyler Gisondo, Laura Harrier, Rosalind Chao, Kimberly Quinn, Loretta Devine, Ravi Kapoor\", 'United States', 'September 24, 2021', 2021, 'PG-13', '104 min', 'Comedies, Dramas', \"A woman adjusting to life after a loss contends with a feisty bird that's taken over her garden — and a husband who's struggling to find a way forward.\"), ('s13', 'Movie', 'Je Suis Karl', 'Christian Schwochow', 'Luna Wedler, Jannis Niewöhner, Milan Peschel, Edin Hasanović, Anna Fialová, Marlon Boess, Victor Boccard, Fleur Geffrier, Aziz Dyab, Mélanie Fouché, Elizaveta Maximová', 'Germany, Czech Republic', 'September 23, 2021', 2021, 'TV-MA', '127 min', 'Dramas, International Movies', 'After most of her family is murdered in a terrorist bombing, a young woman is unknowingly lured into joining the very group that killed them.'), ('s16', 'TV Show', 'Dear White People', 'Unknown', 'Logan Browning, Brandon P. Bell, DeRon Horton, Antoinette Robertson, John Patrick Amedori, Ashley Blaine Featherson, Marque Richardson, Giancarlo Esposito', 'United States', 'September 22, 2021', 2021, 'TV-MA', '4 Seasons', 'TV Comedies, TV Dramas', 'Students of color navigate the daily slights and slippery politics of life at an Ivy League college that\\'s not nearly as \"post-racial\" as it thinks.')  ... displaying 10 of 7964 total bound parameter sets ...  ('s8806', 'Movie', 'Zoom', 'Peter Hewitt', 'Tim Allen, Courteney Cox, Chevy Chase, Kate Mara, Ryan Newman, Michael Cassidy, Spencer Breslin, Rip Torn, Kevin Zegers', 'United States', 'January 11, 2020', 2006, 'PG', '88 min', 'Children & Family Movies, Comedies', 'Dragged from civilian life, a former superhero must train a new crop of youthful saviors when the military preps for an attack by a familiar villain.'), ('s8807', 'Movie', 'Zubaan', 'Mozez Singh', 'Vicky Kaushal, Sarah-Jane Dias, Raaghav Chanana, Manish Chaudhary, Meghna Malik, Malkeet Rauni, Anita Shabdish, Chittaranjan Tripathy', 'India', 'March 2, 2019', 2015, 'TV-14', '111 min', 'Dramas, International Movies, Music & Musicals', \"A scrappy but poor boy worms his way into a tycoon's dysfunctional family, while facing his fear of music and the truth about his past.\")]\n"
          ]
        },
        {
          "output_type": "stream",
          "name": "stderr",
          "text": [
            "INFO:sqlalchemy.engine.Engine:[generated in 0.18193s] [('s1', 'Movie', 'Dick Johnson Is Dead', 'Kirsten Johnson', 'Unknown', 'United States', 'September 25, 2021', 2020, 'PG-13', '90 min', 'Documentaries', 'As her father nears the end of his life, filmmaker Kirsten Johnson stages his death in inventive and comical ways to help them both face the inevitable.'), ('s2', 'TV Show', 'Blood & Water', 'Unknown', 'Ama Qamata, Khosi Ngema, Gail Mabalane, Thabang Molaba, Dillon Windvogel, Natasha Thahane, Arno Greeff, Xolile Tshabalala, Getmore Sithole, Cindy Mah ... (5 characters truncated) ... , Ryle De Morny, Greteli Fincham, Sello Maake Ka-Ncube, Odwa Gwanya, Mekaila Mathys, Sandi Schultz, Duane Williams, Shamilla Miller, Patrick Mofokeng', 'South Africa', 'September 24, 2021', 2021, 'TV-MA', '2 Seasons', 'International TV Shows, TV Dramas, TV Mysteries', 'After crossing paths at a party, a Cape Town teen sets out to prove whether a private-school swimming star is her sister who was abducted at birth.'), ('s5', 'TV Show', 'Kota Factory', 'Unknown', 'Mayur More, Jitendra Kumar, Ranjan Raj, Alam Khan, Ahsaas Channa, Revathi Pillai, Urvi Singh, Arun Kumar', 'India', 'September 24, 2021', 2021, 'TV-MA', '2 Seasons', 'International TV Shows, Romantic TV Shows, TV Comedies', 'In a city of coaching centers known to train India’s finest collegiate minds, an earnest but unexceptional student and his friends navigate campus life.'), ('s8', 'Movie', 'Sankofa', 'Haile Gerima', 'Kofi Ghanaba, Oyafunmike Ogunlano, Alexandra Duah, Nick Medley, Mutabaruka, Afemo Omilami, Reggie Carter, Mzuri', 'United States, Ghana, Burkina Faso, United Kingdom, Germany, Ethiopia', 'September 24, 2021', 1993, 'TV-MA', '125 min', 'Dramas, Independent Movies, International Movies', 'On a photo shoot in Ghana, an American model slips back in time, becomes enslaved on a plantation and bears witness to the agony of her ancestral past.'), ('s9', 'TV Show', 'The Great British Baking Show', 'Andy Devonshire', 'Mel Giedroyc, Sue Perkins, Mary Berry, Paul Hollywood', 'United Kingdom', 'September 24, 2021', 2021, 'TV-14', '9 Seasons', 'British TV Shows, Reality TV', \"A talented batch of amateur bakers face off in a 10-week competition, whipping up their best dishes in the hopes of being named the U.K.'s best.\"), ('s10', 'Movie', 'The Starling', 'Theodore Melfi', \"Melissa McCarthy, Chris O'Dowd, Kevin Kline, Timothy Olyphant, Daveed Diggs, Skyler Gisondo, Laura Harrier, Rosalind Chao, Kimberly Quinn, Loretta Devine, Ravi Kapoor\", 'United States', 'September 24, 2021', 2021, 'PG-13', '104 min', 'Comedies, Dramas', \"A woman adjusting to life after a loss contends with a feisty bird that's taken over her garden — and a husband who's struggling to find a way forward.\"), ('s13', 'Movie', 'Je Suis Karl', 'Christian Schwochow', 'Luna Wedler, Jannis Niewöhner, Milan Peschel, Edin Hasanović, Anna Fialová, Marlon Boess, Victor Boccard, Fleur Geffrier, Aziz Dyab, Mélanie Fouché, Elizaveta Maximová', 'Germany, Czech Republic', 'September 23, 2021', 2021, 'TV-MA', '127 min', 'Dramas, International Movies', 'After most of her family is murdered in a terrorist bombing, a young woman is unknowingly lured into joining the very group that killed them.'), ('s16', 'TV Show', 'Dear White People', 'Unknown', 'Logan Browning, Brandon P. Bell, DeRon Horton, Antoinette Robertson, John Patrick Amedori, Ashley Blaine Featherson, Marque Richardson, Giancarlo Esposito', 'United States', 'September 22, 2021', 2021, 'TV-MA', '4 Seasons', 'TV Comedies, TV Dramas', 'Students of color navigate the daily slights and slippery politics of life at an Ivy League college that\\'s not nearly as \"post-racial\" as it thinks.')  ... displaying 10 of 7964 total bound parameter sets ...  ('s8806', 'Movie', 'Zoom', 'Peter Hewitt', 'Tim Allen, Courteney Cox, Chevy Chase, Kate Mara, Ryan Newman, Michael Cassidy, Spencer Breslin, Rip Torn, Kevin Zegers', 'United States', 'January 11, 2020', 2006, 'PG', '88 min', 'Children & Family Movies, Comedies', 'Dragged from civilian life, a former superhero must train a new crop of youthful saviors when the military preps for an attack by a familiar villain.'), ('s8807', 'Movie', 'Zubaan', 'Mozez Singh', 'Vicky Kaushal, Sarah-Jane Dias, Raaghav Chanana, Manish Chaudhary, Meghna Malik, Malkeet Rauni, Anita Shabdish, Chittaranjan Tripathy', 'India', 'March 2, 2019', 2015, 'TV-14', '111 min', 'Dramas, International Movies, Music & Musicals', \"A scrappy but poor boy worms his way into a tycoon's dysfunctional family, while facing his fear of music and the truth about his past.\")]\n"
          ]
        },
        {
          "output_type": "stream",
          "name": "stdout",
          "text": [
            "2025-01-29 19:06:50,441 INFO sqlalchemy.engine.Engine COMMIT\n"
          ]
        },
        {
          "output_type": "stream",
          "name": "stderr",
          "text": [
            "INFO:sqlalchemy.engine.Engine:COMMIT\n"
          ]
        },
        {
          "output_type": "execute_result",
          "data": {
            "text/plain": [
              "7964"
            ]
          },
          "metadata": {},
          "execution_count": 32
        }
      ]
    },
    {
      "cell_type": "code",
      "source": [
        "from sqlalchemy import text\n",
        "# Query the database for insights\n",
        "with engine.connect() as connection:\n",
        "    query = text(\"SELECT country, COUNT(*) as count FROM netflix_titles GROUP BY country ORDER BY count DESC LIMIT 5;\") # Wrap the query in a text object\n",
        "    result = connection.execute(query) # Pass the query object to execute\n",
        "    top_countries = result.fetchall()"
      ],
      "metadata": {
        "colab": {
          "base_uri": "https://localhost:8080/",
          "height": 0
        },
        "id": "NMFDqu90dZqv",
        "outputId": "2dc277ad-8543-4231-f689-d878f41fa027"
      },
      "execution_count": 34,
      "outputs": [
        {
          "output_type": "stream",
          "name": "stdout",
          "text": [
            "2025-01-29 19:08:53,448 INFO sqlalchemy.engine.Engine BEGIN (implicit)\n"
          ]
        },
        {
          "output_type": "stream",
          "name": "stderr",
          "text": [
            "INFO:sqlalchemy.engine.Engine:BEGIN (implicit)\n"
          ]
        },
        {
          "output_type": "stream",
          "name": "stdout",
          "text": [
            "2025-01-29 19:08:53,454 INFO sqlalchemy.engine.Engine SELECT country, COUNT(*) as count FROM netflix_titles GROUP BY country ORDER BY count DESC LIMIT 5;\n"
          ]
        },
        {
          "output_type": "stream",
          "name": "stderr",
          "text": [
            "INFO:sqlalchemy.engine.Engine:SELECT country, COUNT(*) as count FROM netflix_titles GROUP BY country ORDER BY count DESC LIMIT 5;\n"
          ]
        },
        {
          "output_type": "stream",
          "name": "stdout",
          "text": [
            "2025-01-29 19:08:53,457 INFO sqlalchemy.engine.Engine [generated in 0.00879s] ()\n"
          ]
        },
        {
          "output_type": "stream",
          "name": "stderr",
          "text": [
            "INFO:sqlalchemy.engine.Engine:[generated in 0.00879s] ()\n"
          ]
        },
        {
          "output_type": "stream",
          "name": "stdout",
          "text": [
            "2025-01-29 19:08:53,471 INFO sqlalchemy.engine.Engine ROLLBACK\n"
          ]
        },
        {
          "output_type": "stream",
          "name": "stderr",
          "text": [
            "INFO:sqlalchemy.engine.Engine:ROLLBACK\n"
          ]
        }
      ]
    },
    {
      "cell_type": "code",
      "source": [
        "# Display SQL query results\n",
        "print(\"Top 5 countries with the most titles:\", top_countries)"
      ],
      "metadata": {
        "colab": {
          "base_uri": "https://localhost:8080/",
          "height": 0
        },
        "id": "M1BtcchYd3hE",
        "outputId": "83d16249-c99c-4b7c-c9f7-cf3f23d0be86"
      },
      "execution_count": 35,
      "outputs": [
        {
          "output_type": "stream",
          "name": "stdout",
          "text": [
            "Top 5 countries with the most titles: [('United States', 2812), ('India', 972), ('United Kingdom', 418), ('Japan', 243), ('South Korea', 199)]\n"
          ]
        }
      ]
    },
    {
      "cell_type": "code",
      "source": [
        "# Display outputs\n",
        "print(\"Netflix_titles_df:\", Netflix_titles_df.head())\n",
        "print(\"Category Message:\", category_message)\n",
        "print(\"Title Counts:\", title_counts)\n",
        "print(\"Recent Movies:\", sorted_movies.head())\n",
        "print(\"Titles per Country:\", title_counts_by_country.head())\n",
        "print(\"Total Titles:\", total_titles)\n",
        "print(\"Title Percentages:\", title_percentages)\n",
        "print(\"Average Release Year:\", average_release_year)"
      ],
      "metadata": {
        "colab": {
          "base_uri": "https://localhost:8080/",
          "height": 0
        },
        "id": "ak_fMfe7d7Cx",
        "outputId": "3098f081-c6f7-4fff-8f44-31b5fdfa1778"
      },
      "execution_count": 37,
      "outputs": [
        {
          "output_type": "stream",
          "name": "stdout",
          "text": [
            "Netflix_titles_df:   show_id     type                          title         director  \\\n",
            "0      s1    Movie           Dick Johnson Is Dead  Kirsten Johnson   \n",
            "1      s2  TV Show                  Blood & Water          Unknown   \n",
            "4      s5  TV Show                   Kota Factory          Unknown   \n",
            "7      s8    Movie                        Sankofa     Haile Gerima   \n",
            "8      s9  TV Show  The Great British Baking Show  Andy Devonshire   \n",
            "\n",
            "                                                cast  \\\n",
            "0                                            Unknown   \n",
            "1  Ama Qamata, Khosi Ngema, Gail Mabalane, Thaban...   \n",
            "4  Mayur More, Jitendra Kumar, Ranjan Raj, Alam K...   \n",
            "7  Kofi Ghanaba, Oyafunmike Ogunlano, Alexandra D...   \n",
            "8  Mel Giedroyc, Sue Perkins, Mary Berry, Paul Ho...   \n",
            "\n",
            "                                             country          date_added  \\\n",
            "0                                      United States  September 25, 2021   \n",
            "1                                       South Africa  September 24, 2021   \n",
            "4                                              India  September 24, 2021   \n",
            "7  United States, Ghana, Burkina Faso, United Kin...  September 24, 2021   \n",
            "8                                     United Kingdom  September 24, 2021   \n",
            "\n",
            "   release_year rating   duration  \\\n",
            "0          2020  PG-13     90 min   \n",
            "1          2021  TV-MA  2 Seasons   \n",
            "4          2021  TV-MA  2 Seasons   \n",
            "7          1993  TV-MA    125 min   \n",
            "8          2021  TV-14  9 Seasons   \n",
            "\n",
            "                                           listed_in  \\\n",
            "0                                      Documentaries   \n",
            "1    International TV Shows, TV Dramas, TV Mysteries   \n",
            "4  International TV Shows, Romantic TV Shows, TV ...   \n",
            "7   Dramas, Independent Movies, International Movies   \n",
            "8                       British TV Shows, Reality TV   \n",
            "\n",
            "                                         description  \n",
            "0  As her father nears the end of his life, filmm...  \n",
            "1  After crossing paths at a party, a Cape Town t...  \n",
            "4  In a city of coaching centers known to train I...  \n",
            "7  On a photo shoot in Ghana, an American model s...  \n",
            "8  A talented batch of amateur bakers face off in...  \n",
            "Category Message: 'Dick Johnson Is Dead' is a Movie.\n",
            "Title Counts: {'Movie': 5690, 'TV Show': 2274}\n",
            "Recent Movies:      show_id   type                        title           director  \\\n",
            "878     s879  Movie                        Ferry  Cecilia Verheyden   \n",
            "998     s999  Movie         Searching For Sheela            Unknown   \n",
            "1425   s1426  Movie  Creating The Queen's Gambit            Unknown   \n",
            "1424   s1425  Movie                     Charming       Ross Venokur   \n",
            "959     s960  Movie                 The Disciple  Chaitanya Tamhane   \n",
            "\n",
            "                                                   cast  \\\n",
            "878   Frank Lammers, Elise Schaap, Huub Stapel, Moni...   \n",
            "998                                     Ma Anand Sheela   \n",
            "1425                                            Unknown   \n",
            "1424  Wilmer Valderrama, Demi Lovato, Sia, Nia Varda...   \n",
            "959   Aditya Modak, Arun Dravid, Sumitra Bhave, Deep...   \n",
            "\n",
            "                                    country       date_added  release_year  \\\n",
            "878                    Belgium, Netherlands     May 14, 2021          2021   \n",
            "998                                   India   April 22, 2021          2021   \n",
            "1425                          United States  January 8, 2021          2021   \n",
            "1424  Canada, United States, Cayman Islands  January 8, 2021          2021   \n",
            "959                                   India   April 30, 2021          2021   \n",
            "\n",
            "     rating duration                                         listed_in  \\\n",
            "878   TV-MA  107 min           Dramas, International Movies, Thrillers   \n",
            "998   TV-14   58 min               Documentaries, International Movies   \n",
            "1425  TV-14   14 min                                     Documentaries   \n",
            "1424  TV-Y7   85 min                Children & Family Movies, Comedies   \n",
            "959   TV-MA  128 min  Dramas, Independent Movies, International Movies   \n",
            "\n",
            "                                            description  \n",
            "878   Before he built a drug empire, Ferry Bouman re...  \n",
            "998   Journalists and fans await Ma Anand Sheela as ...  \n",
            "1425  A fascinating character. Exquisite sets. A wig...  \n",
            "1424  On the eve of his 21st birthday, an adored pri...  \n",
            "959   Self-doubt, sacrifice and struggle converge in...  \n",
            "Titles per Country: type                                                Movie  TV Show\n",
            "country                                                           \n",
            ", France, Algeria                                     1.0      0.0\n",
            ", South Korea                                         0.0      1.0\n",
            "Argentina                                            38.0     18.0\n",
            "Argentina, Brazil, France, Poland, Germany, Den...    1.0      0.0\n",
            "Argentina, Chile                                      2.0      0.0\n",
            "Total Titles: 7964\n",
            "Title Percentages: {'Movie': 71.44650929181316, 'TV Show': 28.55349070818684}\n",
            "Average Release Year: 2013.8881215469614\n"
          ]
        }
      ]
    },
    {
      "cell_type": "markdown",
      "source": [
        "##Interpretation\n",
        "Each analysis step and visualization provides meaningful insights into Netflix's content strategy:\n",
        "\n",
        "**Content Distribution (Movies vs. TV Shows)**: The bar chart revealed that Netflix has a significantly higher number of movies compared to TV shows.This suggests that Netflix prioritizes movies. it is adviseable that they need to focus more on producing high-quality series to increase audience retention.\n",
        "\n",
        "**Regional Content Contribution**: The SQL queries showed that the top 3 content-producing countries are the United States, India, and the United Kingdom. This insight can guide Netflix in making strategic licensing and investment decisions for regional content expansion.\n",
        "\n",
        "**Release Year Trends**: The histogram displaying release year distribution showed a spike in content additions post-2015, indicating Netflix’s increased focus on expanding its library. This aligns with its global expansion strategy and increased production of Netflix Originals.\n",
        "\n",
        "**Duration Patterns by Rating**: The boxplot illustrated that different ratings correlate with different duration ranges.\n",
        "For example, PG-13 and R-rated movies tend to have longer runtimes compared to others. This insight helps in curating content recommendations based on the viewing preferences.\n",
        "\n",
        "**SQL Query Insights**:The SQL database provided a structured way to store and analyze content-related data, revealing useful patterns such as the most common movie ratings and average movie duration as per the rating.\n"
      ],
      "metadata": {
        "id": "J2-w7FuUs8nr"
      }
    },
    {
      "cell_type": "code",
      "source": [],
      "metadata": {
        "id": "XQ500L1APH8Z"
      },
      "execution_count": null,
      "outputs": []
    }
  ]
}